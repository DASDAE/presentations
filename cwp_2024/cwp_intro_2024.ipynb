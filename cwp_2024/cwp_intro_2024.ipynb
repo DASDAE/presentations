{
 "cells": [
  {
   "cell_type": "markdown",
   "metadata": {
    "id": "l90-8pQ6U6o3"
   },
   "source": [
    "# DASCore Quick Intro\n",
    "May 13, 2024\n",
    "\n",
    "[![Open In Colab](https://colab.research.google.com/assets/colab-badge.svg)](https://colab.research.google.com/github/DASDAE/presentations/blob/master/cwp_2024/cwp_intro_2024.ipynb)\n",
    "\n",
    "This tutorial will introduce new users to basic functionality of DASCore.\n",
    "\n",
    "#### Useful links: \n",
    "* [DASCore tutorial](https://dascore.org/tutorial/concepts.html)\n",
    "\n",
    "First, let's install DASCore using pip. If you run into issues running this on your local computer, use the button above to switch to [Google Colab](https://colab.research.google.com)."
   ]
  },
  {
   "cell_type": "code",
   "execution_count": null,
   "metadata": {
    "id": "AEcRQgwoUTMW"
   },
   "outputs": [],
   "source": [
    "try: \n",
    "    import dascore\n",
    "except ImportError:\n",
    "    !pip install -q dascore\n",
    "    print('Installed DasCore, stopping RUNTIME! Please restart.')\n",
    "    import os; os.kill(os.getpid(), 9)"
   ]
  },
  {
   "cell_type": "markdown",
   "metadata": {
    "id": "AMm0TY-wXhk0"
   },
   "source": [
    "Now that we've got DASCore installed, we can import it for use. We also swap out the built-in `print` function for a [rich](https://github.com/Textualize/rich)er version. "
   ]
  },
  {
   "cell_type": "code",
   "execution_count": null,
   "metadata": {
    "id": "X4zEzTTSUaOE"
   },
   "outputs": [],
   "source": [
    "import numpy as np\n",
    "from rich import print\n",
    "\n",
    "import dascore as dc"
   ]
  },
  {
   "cell_type": "markdown",
   "metadata": {},
   "source": [
    "# Overview\n",
    "\n",
    "The main data structures in DASCore are the `Patch` and `Spool`. The `Patch` is an array with metadata, and the `Spool` is an interface for access patches from various sources. Each of these have many methods for processing the underlying data. Here we will examine the `Patch` in more detail. \n",
    "\n",
    "\n",
    "<div>\n",
    "    <center>\n",
    "        <img src=\"https://raw.githubusercontent.com/DASDAE/presentations/master/_static/images/patch_spool_disp.svg\" width=\"900\" align=\"center\">\n",
    "    </center>\n",
    "</div>"
   ]
  },
  {
   "cell_type": "markdown",
   "metadata": {
    "id": "Nop25qHmeMxf"
   },
   "source": [
    "## Patch"
   ]
  },
  {
   "cell_type": "markdown",
   "metadata": {
    "id": "iQwLW22xXqL0"
   },
   "source": [
    "DASCore comes prepackaged with multiple example patches of data. Let's start by loading an example of an induced event recorded by a fiber in a borehole (from [Staněk et al. 2022](https://www.frontiersin.org/articles/10.3389/feart.2022.907749/full)). "
   ]
  },
  {
   "cell_type": "code",
   "execution_count": null,
   "metadata": {
    "id": "45bcTYt7Xntx"
   },
   "outputs": [],
   "source": [
    "patch = dc.get_example_patch('example_event_1')"
   ]
  },
  {
   "cell_type": "markdown",
   "metadata": {
    "id": "gWYL2J1iMDPs"
   },
   "source": [
    "To get an idea of the patch contents, and metadata we can simply print it."
   ]
  },
  {
   "cell_type": "code",
   "execution_count": null,
   "metadata": {
    "colab": {
     "base_uri": "https://localhost:8080/",
     "height": 513
    },
    "executionInfo": {
     "elapsed": 23,
     "status": "ok",
     "timestamp": 1685499209070,
     "user": {
      "displayName": "Derrick Chambers",
      "userId": "00340949968075166627"
     },
     "user_tz": 360
    },
    "id": "gAbm3DZgMDBQ",
    "outputId": "4c37ec0f-af84-448e-f081-ed09a8e11686"
   },
   "outputs": [],
   "source": [
    "print(patch)"
   ]
  },
  {
   "cell_type": "markdown",
   "metadata": {
    "id": "g5DSi-rrMOLO"
   },
   "source": [
    "A few important patch components (attributes) are:\n",
    "\n",
    "1. `data`\n",
    "An array of the managed the data\n",
    "\n",
    "2. `coords`\n",
    "An object to keep track of labels for each dimension and, optionally, extra information (like latitude/longitude)\n",
    "\n",
    "3. `attrs`\n",
    "A model for storing scalar metadata\n",
    "\n",
    "4. `dims`\n",
    "A tuple of the data's dimension labels\n",
    "\n",
    "(Note: the patch design is based on Xarray's [DataArray](https://docs.xarray.dev/en/stable/generated/xarray.DataArray.html))"
   ]
  },
  {
   "cell_type": "markdown",
   "metadata": {},
   "source": [
    "### **Exercise**\n",
    "Find the mean of the patch data."
   ]
  },
  {
   "cell_type": "code",
   "execution_count": null,
   "metadata": {},
   "outputs": [],
   "source": []
  },
  {
   "cell_type": "markdown",
   "metadata": {},
   "source": [
    "### Coords"
   ]
  },
  {
   "cell_type": "markdown",
   "metadata": {},
   "source": [
    "Coordinates provide useful functionality for orienting the data. Here are some examples:"
   ]
  },
  {
   "cell_type": "code",
   "execution_count": null,
   "metadata": {},
   "outputs": [],
   "source": [
    "coord = patch.coords.get_coord(\"distance\")"
   ]
  },
  {
   "cell_type": "code",
   "execution_count": null,
   "metadata": {},
   "outputs": [],
   "source": [
    "print(coord)"
   ]
  },
  {
   "cell_type": "code",
   "execution_count": null,
   "metadata": {},
   "outputs": [],
   "source": [
    "# Find the total cable distance spanned by the patch:\n",
    "coord.max() - coord.min()"
   ]
  },
  {
   "cell_type": "code",
   "execution_count": null,
   "metadata": {},
   "outputs": [],
   "source": [
    "# Get an array of coordinate values\n",
    "dist_array = coord.values"
   ]
  },
  {
   "cell_type": "markdown",
   "metadata": {
    "id": "Y6lUcW47SPx7"
   },
   "source": [
    "## Visualization"
   ]
  },
  {
   "cell_type": "markdown",
   "metadata": {
    "id": "49H-evqgQrb_"
   },
   "source": [
    "The `Patch.viz` namespace contains a few options for plotting the data. The most commonly used is the waterfall plot.\n",
    "\n",
    "(Note: Often, extreme values in the data cause the waterfall plot to appear completely white. Use the `scale` parameter to saturate the colorbar)"
   ]
  },
  {
   "cell_type": "code",
   "execution_count": null,
   "metadata": {
    "colab": {
     "base_uri": "https://localhost:8080/",
     "height": 501
    },
    "executionInfo": {
     "elapsed": 1848,
     "status": "ok",
     "timestamp": 1685499210902,
     "user": {
      "displayName": "Derrick Chambers",
      "userId": "00340949968075166627"
     },
     "user_tz": 360
    },
    "id": "m3BBRjrePPos",
    "outputId": "64e5a7fb-4ba1-4f9e-e12d-78a0160e2f89"
   },
   "outputs": [],
   "source": [
    "patch.viz.waterfall(scale=0.01);"
   ]
  },
  {
   "cell_type": "markdown",
   "metadata": {
    "id": "UaV2M9nffSJK"
   },
   "source": [
    "### Updating Patches\n",
    "Patches are immutable, meaning they cannot be chaned inplace. This helps prevent many types of errors, but does require a bit more thought when working with these data structures.\n",
    "\n",
    "A few methods are useful here: `Patch.new`, `Patch.update_attrs`, `patch.update_coords`, `patch.convert_units`. \n",
    "\n",
    "#### New\n",
    "\n",
    "`new` will create a new patch, using all the data in the old patch except for parameters specified. "
   ]
  },
  {
   "cell_type": "code",
   "execution_count": null,
   "metadata": {
    "id": "OaznzFucfV5q"
   },
   "outputs": [],
   "source": [
    "# Divide data by 1_000_000 to go from µε/s to ε/s, keep all other aspects of the patch the same.\n",
    "new_data = patch.data / 1_000_000\n",
    "patch_strain = patch.new(data=new_data)"
   ]
  },
  {
   "cell_type": "code",
   "execution_count": null,
   "metadata": {},
   "outputs": [],
   "source": [
    "print(patch_strain)"
   ]
  },
  {
   "cell_type": "markdown",
   "metadata": {
    "id": "D6aLrZmfgmXA"
   },
   "source": [
    "#### update_attrs\n",
    "`update_attrs` is used to create a new patch with aspects of the metadata changed."
   ]
  },
  {
   "cell_type": "code",
   "execution_count": null,
   "metadata": {
    "colab": {
     "base_uri": "https://localhost:8080/"
    },
    "executionInfo": {
     "elapsed": 18,
     "status": "ok",
     "timestamp": 1685499210906,
     "user": {
      "displayName": "Derrick Chambers",
      "userId": "00340949968075166627"
     },
     "user_tz": 360
    },
    "id": "sGpcZJKeg_GE",
    "outputId": "6e82d87b-a039-4a28-dd06-a63054da6a1e"
   },
   "outputs": [],
   "source": [
    "# Add the gauge length, data units, and a custom tag\n",
    "patch_new_attrs = patch_strain.update_attrs(guage_length=5, data_units=\"(1/s)\", tag=\"induced_event\")\n",
    "print(patch_new_attrs)"
   ]
  },
  {
   "cell_type": "markdown",
   "metadata": {},
   "source": [
    "#### update_coords\n",
    "`update_coords` is used to change start, end, step, units, or array data of coordinates."
   ]
  },
  {
   "cell_type": "code",
   "execution_count": null,
   "metadata": {},
   "outputs": [],
   "source": [
    "# Translate time coordinate to a plausible event origin time.\n",
    "patch_coords = patch_new_attrs.update_coords(time_min=\"2020-04-01T01:12:23.1\")"
   ]
  },
  {
   "cell_type": "code",
   "execution_count": null,
   "metadata": {},
   "outputs": [],
   "source": [
    "print(patch_coords)"
   ]
  },
  {
   "cell_type": "markdown",
   "metadata": {},
   "source": [
    "#### convert_units\n",
    "`convert_units` will convert (or set if undefined) units on the patch data or coordinates."
   ]
  },
  {
   "cell_type": "code",
   "execution_count": null,
   "metadata": {},
   "outputs": [],
   "source": [
    "patch_units = patch_coords.convert_units(time=\"s\", distance=\"m\") \n",
    "print(patch_units)"
   ]
  },
  {
   "cell_type": "markdown",
   "metadata": {
    "id": "uGGwdn1USe9f"
   },
   "source": [
    "### Processing\n",
    "\n",
    "DasCore provides many [processing](https://dascore.org/api/dascore/proc.html) and [transformation](https://dascore.org/api/dascore/transform.html) methods and many more are planned.\n",
    "\n",
    "The following shows of the most commonly used."
   ]
  },
  {
   "cell_type": "markdown",
   "metadata": {
    "id": "I5kt02dhkmuB"
   },
   "source": [
    "#### Select\n",
    "`select` can be used to crop a patch."
   ]
  },
  {
   "cell_type": "code",
   "execution_count": null,
   "metadata": {
    "colab": {
     "base_uri": "https://localhost:8080/",
     "height": 504
    },
    "executionInfo": {
     "elapsed": 871,
     "status": "ok",
     "timestamp": 1685499211762,
     "user": {
      "displayName": "Derrick Chambers",
      "userId": "00340949968075166627"
     },
     "user_tz": 360
    },
    "id": "AWaVT4MtkyfT",
    "outputId": "f3858b84-a555-49da-e522-33f9703d863d"
   },
   "outputs": [],
   "source": [
    "# Get current start time\n",
    "time = patch_units.get_coord(\"time\")\n",
    "time_min = time.min()\n",
    "\n",
    "# Get desired time range (t1, t2)\n",
    "t1 = time_min + dc.to_timedelta64(0.02)\n",
    "t2 = t1 + dc.to_timedelta64(0.04)\n",
    "\n",
    "# Select based on new time and distance ranges\n",
    "patch_select = patch_units.select(distance=(600, 800), time=(t1, t2))\n",
    "\n",
    "# Plot\n",
    "patch_select.viz.waterfall(scale=0.1);"
   ]
  },
  {
   "cell_type": "markdown",
   "metadata": {},
   "source": [
    "#### Taper\n",
    "`taper` applies a taper along a specified dimension of the patch."
   ]
  },
  {
   "cell_type": "code",
   "execution_count": null,
   "metadata": {},
   "outputs": [],
   "source": [
    "# Apply a cosine taper to 10 ms of start and end of time axis\n",
    "ms = dc.get_quantity('ms')\n",
    "patch_taper = patch_units.taper(time=10 * ms) \n",
    "\n",
    "# The visualize.\n",
    "patch_taper.viz.waterfall(scale=0.01);"
   ]
  },
  {
   "cell_type": "markdown",
   "metadata": {
    "id": "zKJz59yMUIIl"
   },
   "source": [
    "#### Pass Filtering\n",
    "The `Patch.pass_filter` method is used to apply bandpass, lowpass, and highpass filters to the data along a specified dimension."
   ]
  },
  {
   "cell_type": "code",
   "execution_count": null,
   "metadata": {
    "id": "jiYWO3NPUDxe"
   },
   "outputs": [],
   "source": [
    "patch_bp = patch_taper.pass_filter(time=(100, 300))  # apply a 100Hz to 300Hz highpass\n",
    "patch_lp = patch_taper.pass_filter(time=(None, 300))  # apply a 300Hz lowpass\n",
    "patch_bp = patch_taper.pass_filter(time=(50, None))  # apply a 50Hz highpass"
   ]
  },
  {
   "cell_type": "markdown",
   "metadata": {
    "id": "jy1HRP5oV_j1"
   },
   "source": [
    "### **Exercise**\n",
    "Plot each of the filtered patches above. Which filtering technique did the best at accentuating the event signal? "
   ]
  },
  {
   "cell_type": "code",
   "execution_count": null,
   "metadata": {},
   "outputs": [],
   "source": []
  },
  {
   "cell_type": "code",
   "execution_count": null,
   "metadata": {},
   "outputs": [],
   "source": []
  },
  {
   "cell_type": "code",
   "execution_count": null,
   "metadata": {},
   "outputs": [],
   "source": []
  },
  {
   "cell_type": "markdown",
   "metadata": {
    "id": "cIppflVCVkgY"
   },
   "source": [
    "#### Detrend\n",
    "\n",
    "`detrend` applies a linear detrend along a specify dimension (axis)."
   ]
  },
  {
   "cell_type": "code",
   "execution_count": null,
   "metadata": {
    "id": "NzemP8qCTtma"
   },
   "outputs": [],
   "source": [
    "patch_dt_time = patch_lp.detrend(\"time\")  # Linear detrend along time axis\n",
    "patch_dt_dist = patch_lp.detrend(\"distance\") # Linear detrend along distance axis"
   ]
  },
  {
   "cell_type": "markdown",
   "metadata": {
    "id": "B9BL0ag7WWSt"
   },
   "source": [
    "#### Decimate\n",
    "`decimate` reduces the number of samples in the specified dimension. By default, a lowpass filter is applied to avoid aliasing. "
   ]
  },
  {
   "cell_type": "code",
   "execution_count": null,
   "metadata": {
    "id": "OI2NphJfWgzz"
   },
   "outputs": [],
   "source": [
    "patch_dec = patch_lp.decimate(time=10)  # keep every 10th sample along time axis"
   ]
  },
  {
   "cell_type": "markdown",
   "metadata": {
    "id": "LTUqx7sHXGMU"
   },
   "source": [
    "#### Resample\n",
    "\n",
    "Like `decimate`, `resample` is used to change the sampling rate of the patch along a specific dimension. Unlike `decimate`, however, non-integar multiples can be used."
   ]
  },
  {
   "cell_type": "code",
   "execution_count": null,
   "metadata": {
    "id": "oczYQcD7XA68"
   },
   "outputs": [],
   "source": [
    "patch_resamp = patch_lp.resample(distance=15)  # change spatial sampling to 15m"
   ]
  },
  {
   "cell_type": "markdown",
   "metadata": {
    "id": "0-9df6NZZtLL"
   },
   "source": [
    "### **Exercise**\n",
    "\n",
    "Using the processing methods above, or others you find in the [processing module documentation](https://dascore.org/api/dascore/proc.html), apply processing to the example patch to accentuate the primary phases of the event and plot it.\n",
    "\n",
    "Compare your results to the ones from the DASCore presentation as a baseline."
   ]
  },
  {
   "cell_type": "code",
   "execution_count": null,
   "metadata": {},
   "outputs": [],
   "source": [
    "# Basline patch \n",
    "patch_baseline = (\n",
    "    patch.set_units(\"1/s\", distance=\"m\", time=\"s\")\n",
    "    .detrend(\"time\")\n",
    "    .taper(time=0.05)\n",
    "    .pass_filter(time=(..., 300))\n",
    ")\n",
    "patch_baseline.viz.waterfall(show=True, scale=0.3);"
   ]
  },
  {
   "cell_type": "code",
   "execution_count": null,
   "metadata": {},
   "outputs": [],
   "source": []
  }
 ],
 "metadata": {
  "colab": {
   "provenance": [
    {
     "file_id": "1o2NLnjecoK1SKOERa5SZiexBpsGUFPM-",
     "timestamp": 1685207780020
    }
   ]
  },
  "kernelspec": {
   "display_name": "Python 3 (ipykernel)",
   "language": "python",
   "name": "python3"
  },
  "language_info": {
   "codemirror_mode": {
    "name": "ipython",
    "version": 3
   },
   "file_extension": ".py",
   "mimetype": "text/x-python",
   "name": "python",
   "nbconvert_exporter": "python",
   "pygments_lexer": "ipython3",
   "version": "3.10.11"
  }
 },
 "nbformat": 4,
 "nbformat_minor": 4
}
